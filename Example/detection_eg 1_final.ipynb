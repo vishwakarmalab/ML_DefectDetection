{
 "cells": [
  {
   "cell_type": "markdown",
   "id": "5daed8dc",
   "metadata": {},
   "source": [
    "This example aims to demonstrate our detection method step-by-step for the user, so they have a firm understanding of how the process works and can easily run it with their own data. In it we detect defects in a single segmented image where the centroid cordinates and cell orientations have already been extracted. \n",
    "\n",
    "This mirrors the script 'detect_defects' but for a single image, with intervening results plotted and some of the subroutines in 'functions' also explicitly shown for clarity."
   ]
  },
  {
   "cell_type": "code",
   "execution_count": null,
   "id": "ea81db4d",
   "metadata": {},
   "outputs": [],
   "source": [
    "import os\n",
    "import numpy as np\n",
    "import functions as f\n",
    "import keras\n",
    "from scipy.interpolate import griddata\n",
    "import matplotlib.pyplot as plt\n",
    "\n",
    "grid_space = 10                              #Choose spacing of interpolation grid\n",
    "data_filepath = r\"D:\\Sindhu data analysed by Tanishq\\July 2024 imaged\\MDCK_fixed_9_7_24_betacta555_ph594\\R1\\Orientation and defects\"  #Location of cell coordinate data\n",
    "save_filepath = r\"D:\\Sindhu data analysed by Tanishq\\July 2024 imaged\\MDCK_fixed_9_7_24_betacta555_ph594\\R1\\Orientation and defects\"                             #Path to where defect folders will be located\n",
    "posdef_path = save_filepath + '\\DefectFiles'     #Location of +1/2 defect files\n",
    "negdef_path = save_filepath + '\\DefectFiles'     #Location of -1/2 defect files\n",
    "angles = True                                    #Whether to save the detected defects orientation along with position \n",
    "\n",
    "#Load CNN model\n",
    "model_filepath = r\"C:\\Users\\Tanya Chhabra\\OneDrive\\Documents\\IISc\\Cell competetion\\Codes\\ML code\\example\\SavedModels\"\n",
    "model = keras.layers.TFSMLayer(model_filepath, call_endpoint=\"serving_default\")\n",
    "\n",
    "#Load experimental data\n",
    "file = data_filepath = r\"C:\\Users\\Tanya Chhabra\\OneDrive\\Documents\\IISc\\Cell competetion\\analysis\\Hetrogeneity Project\\Analysis\\Healthy cells\\R1\\20X\\s1\\T.txt\""
   ]
  },
  {
   "cell_type": "code",
   "execution_count": null,
   "id": "6c7c4514-33a2-43a0-b4d7-2f660dbd0865",
   "metadata": {},
   "outputs": [],
   "source": [
    "#Changing TFSMLayer to a full model.\n",
    "input_layer = keras.Input(shape = (9,9,1))\n",
    "outputs = model(input_layer)\n",
    "model_full = keras.Model(input_layer, outputs)\n",
    "model_full.summary()"
   ]
  },
  {
   "cell_type": "markdown",
   "id": "8377df4a",
   "metadata": {},
   "source": [
    "In the script 'detect_defects' the function DetectDefects is now called in a loop as defects are detected in each image and their coordinates are returned as the variable pos_def and neg_def. Here we break down DetectDefects and show how it works step-by-step.\n",
    "\n",
    "We first load the x and y coordinates of each cell's centroid, as well as its orientation."
   ]
  },
  {
   "cell_type": "code",
   "execution_count": null,
   "id": "2ed27df8",
   "metadata": {
    "scrolled": true
   },
   "outputs": [],
   "source": [
    "cell_data = np.loadtxt(data_filepath, delimiter = ',')\n",
    "cell_data[cell_data[:,2]<0,2] += np.pi\n",
    "\n",
    "x = cell_data[:,0]\n",
    "y = cell_data[:,1]\n",
    "theta = cell_data[:,2]\n",
    "\n",
    "x_max = max(x)\n",
    "y_max = max(y)\n",
    "\n",
    "plt.rcParams['figure.figsize'] = [7, 6]\n",
    "plt.quiver(x, y, 0.1*np.cos(theta), 0.1*np.sin(theta), scale = 10, headlength=0,headaxislength=0)\n",
    "plt.quiver(x, y, -0.1*np.cos(theta), -0.1*np.sin(theta), scale = 10, headlength=0,headaxislength=0)\n",
    "plt.xlim((0,x_max))\n",
    "plt.ylim((0,y_max))\n",
    "plt.show()"
   ]
  },
  {
   "cell_type": "markdown",
   "id": "ed49dc31",
   "metadata": {},
   "source": [
    "We now interpolate this data to a fine grid using GridDirectors, which also smooths the data out using a sliding window with sides of length 2 * offset."
   ]
  },
  {
   "cell_type": "code",
   "execution_count": null,
   "id": "4800845b",
   "metadata": {},
   "outputs": [],
   "source": [
    "offset = 4\n",
    "yg, xg = np.mgrid[0:y_max:grid_space,0:x_max:grid_space]\n",
    "\n",
    "tg = f.GridDirectors(cell_data,xg,yg,offset)\n",
    "\n",
    "xg_plot = xg[::2,::2]\n",
    "yg_plot = yg[::2,::2]\n",
    "tg_plot = tg[::2,::2]\n",
    "\n",
    "plt.quiver(xg_plot, yg_plot, 0.075*np.cos(tg_plot), 0.075*np.sin(tg_plot), scale = 10, headlength=0,headaxislength=0)\n",
    "plt.quiver(xg_plot, yg_plot, -0.075*np.cos(tg_plot), -0.075*np.sin(tg_plot), scale = 10, headlength=0,headaxislength=0)\n",
    "plt.show()"
   ]
  },
  {
   "cell_type": "markdown",
   "id": "6ebcc3a3",
   "metadata": {},
   "source": [
    "We now use SFinder to calculate the scalar nematic order parameter across the domain and use it to indentify regions of low nematic order (which we define as S < 0.15). We then define the centres of mass of these regions as 'points of interest' (POIs) which fom the centre of 'regions of interest' (ROIs) which we feed into our model to classify."
   ]
  },
  {
   "cell_type": "code",
   "execution_count": null,
   "id": "0ba143ec",
   "metadata": {
    "scrolled": true
   },
   "outputs": [],
   "source": [
    "S = f.SFinder(tg,offset)\n",
    "POIs,ROIs = f.ROIFinder(data_filepath,grid_space)\n",
    "#Plot S and POIs\n",
    "plt.contourf(xg[offset:-offset,offset:-offset],yg[offset:-offset,offset:-offset],S)\n",
    "plt.quiver(xg_plot, yg_plot, 0.075*np.cos(tg_plot), 0.075*np.sin(tg_plot), scale = 10, headlength=0,headaxislength=0)\n",
    "plt.quiver(xg_plot, yg_plot, -0.075*np.cos(tg_plot), -0.075*np.sin(tg_plot), scale = 10, headlength=0,headaxislength=0)\n",
    "plt.plot(POIs[:,0],POIs[:,1],'ro',ms=5)\n",
    "plt.show()"
   ]
  },
  {
   "cell_type": "markdown",
   "id": "39b7fad9",
   "metadata": {},
   "source": [
    "Now use the trained model to classify the ROIs. If 'angles' is set to true we also find the orientation of each defect, which is appended as a third column to pos_defs and neg_defs."
   ]
  },
  {
   "cell_type": "code",
   "execution_count": null,
   "id": "ed31d305",
   "metadata": {},
   "outputs": [],
   "source": [
    "label_prob = model_full.predict(ROIs)\n",
    "labels = np.eye(3,dtype=int)[np.argmax(label_prob['dense_1'],axis=1)]\n",
    "print(labels)\n",
    "#Use labels to find coordinates of detected defects\n",
    "pos_defs = POIs[labels[:,2]==1,:];\n",
    "neg_defs = POIs[labels[:,0]==1,:];\n",
    "#Find the orientation of defects (if desired)\n",
    "if angles:\n",
    "    pos_ROIs = ROIs[labels[:,2]==1,:,:];\n",
    "    neg_ROIs = ROIs[labels[:,0]==1,:,:];\n",
    "\n",
    "    pos_angles = f.DefectOrientator(pos_ROIs,0.5,grid_space)\n",
    "    neg_angles = f.DefectOrientator(neg_ROIs,-0.5,grid_space)\n",
    "\n",
    "    pos_defs = np.hstack((pos_defs,pos_angles))\n",
    "    neg_defs = np.hstack((neg_defs,neg_angles))\n",
    "        \n",
    "plt.contourf(xg[offset:-offset,offset:-offset],yg[offset:-offset,offset:-offset],S)\n",
    "plt.quiver(xg_plot, yg_plot, 0.075*np.cos(tg_plot), 0.075*np.sin(tg_plot), scale = 10, headlength=0,headaxislength=0)\n",
    "plt.quiver(xg_plot, yg_plot, -0.075*np.cos(tg_plot), -0.075*np.sin(tg_plot), scale = 10, headlength=0,headaxislength=0)\n",
    "plt.plot(pos_defs[:,0],pos_defs[:,1],'bo',ms=8)\n",
    "plt.plot(neg_defs[:,0],neg_defs[:,1],'go',ms=8)\n",
    "plt.show()"
   ]
  },
  {
   "cell_type": "code",
   "execution_count": null,
   "id": "81ac7cb3",
   "metadata": {},
   "outputs": [],
   "source": [
    "plt.quiver(cell_data[:,0], cell_data[:,1], 0.1*np.cos(theta), 0.1*np.sin(theta), scale = 10, headlength=0,headaxislength=0)\n",
    "plt.quiver(cell_data[:,0], cell_data[:,1], -0.1*np.cos(theta), -0.1*np.sin(theta), scale = 10, headlength=0,headaxislength=0)\n",
    "plt.plot(pos_defs[:,0],pos_defs[:,1],'bo',ms=8)\n",
    "plt.plot(neg_defs[:,0],neg_defs[:,1],'go',ms=8)\n",
    "plt.xlim((0,x_max))\n",
    "plt.ylim((0,y_max))\n",
    "plt.gca().set_aspect('equal', adjustable='box')\n",
    "\n",
    "plt.savefig(r\"C:\\Users\\Tanya Chhabra\\OneDrive\\Documents\\IISc\\Cell competetion\\analysis\\Hetrogeneity Project\\Analysis\\Healthy cells\\R1\\20X\\s1\\defects.png\")\n",
    "plt.show()"
   ]
  },
  {
   "cell_type": "markdown",
   "id": "a7bb57c4",
   "metadata": {},
   "source": [
    "We now save the detected defect coordinates (and orientation) to the locations specified."
   ]
  },
  {
   "cell_type": "code",
   "execution_count": null,
   "id": "0859a1a1",
   "metadata": {},
   "outputs": [],
   "source": [
    "image_num = 1 \n",
    "\n",
    "filename = 'posdefects%06d.txt' % image_num\n",
    "np.savetxt(os.path.join(posdef_path, filename),pos_defs, delimiter=',')\n",
    "filename = 'negdefects%06d.txt' % image_num\n",
    "np.savetxt(os.path.join(negdef_path, filename),neg_defs, delimiter=',')"
   ]
  },
  {
   "cell_type": "code",
   "execution_count": null,
   "id": "efe91126",
   "metadata": {},
   "outputs": [],
   "source": [
    "pos_defs_with_charge = np.hstack((pos_defs[:, :2], np.full((pos_defs.shape[0], 1), 0.5)))\n",
    "neg_defs_with_charge = np.hstack((neg_defs[:, :2], np.full((neg_defs.shape[0], 1), -0.5)))\n",
    "\n",
    "# Combine the positive and negative defects data\n",
    "all_defs_with_charge = np.vstack((pos_defs_with_charge, neg_defs_with_charge))\n",
    "\n",
    "# Generate filename for the combined defects data\n",
    "combined_filename = 'defects_with_charge%06d.csv' % image_num\n",
    "\n",
    "# Save the combined defects data\n",
    "np.savetxt(os.path.join(posdef_path, combined_filename), all_defs_with_charge, delimiter=',', header='x,y,charge', comments='')"
   ]
  }
 ],
 "metadata": {
  "kernelspec": {
   "display_name": "Python 3 (ipykernel)",
   "language": "python",
   "name": "python3"
  },
  "language_info": {
   "codemirror_mode": {
    "name": "ipython",
    "version": 3
   },
   "file_extension": ".py",
   "mimetype": "text/x-python",
   "name": "python",
   "nbconvert_exporter": "python",
   "pygments_lexer": "ipython3",
   "version": "3.11.7"
  }
 },
 "nbformat": 4,
 "nbformat_minor": 5
}
